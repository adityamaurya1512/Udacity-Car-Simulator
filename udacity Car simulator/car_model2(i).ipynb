{
 "cells": [
  {
   "cell_type": "code",
   "execution_count": null,
   "metadata": {},
   "outputs": [],
   "source": [
    "import csv\n",
    "import cv2\n",
    "from os import path\n",
    "import numpy as np\n",
    "import matplotlib.pyplot as plt\n",
    "# import pickle\n",
    "from keras.models import Sequential\n",
    "from keras.layers import Flatten, Dense, Lambda, Dropout\n",
    "from keras.layers import Dense, Activation, Flatten, Dropout, Lambda, ELU\n",
    "from keras.activations import relu, softmax\n",
    "from keras.layers.convolutional import Convolution2D, Cropping2D\n",
    "from keras.layers.pooling import MaxPooling2D\n",
    "from sklearn.utils import shuffle\n",
    "from sklearn.model_selection import train_test_split\n",
    "from keras.regularizers import l2"
   ]
  },
  {
   "cell_type": "code",
   "execution_count": null,
   "metadata": {},
   "outputs": [],
   "source": [
    "def loadData(basePath):\n",
    "    \"\"\" Load the images and steering angles from the basePath\n",
    "        assuming the headline of the CSV file is removed (starting the image name)\n",
    "    :param basepath: base path which contains the csv file and IMG folder\n",
    "    :return: images, angles\n",
    "    \"\"\"\n",
    "    lines = []\n",
    "    with open(path.join(basePath,'driving_log.csv')) as f:        \n",
    "        content = csv.reader(f)\n",
    "        for line in content:\n",
    "            lines.append(line)\n",
    "\n",
    "    return lines"
   ]
  },
  {
   "cell_type": "code",
   "execution_count": null,
   "metadata": {},
   "outputs": [],
   "source": [
    "def balance_data(samples, visulization_flag ,N=60, K=1,  bins=100):\n",
    "    \"\"\" Crop the top part of the steering angle histogram, by removing some images belong to those steering angels\n",
    "\n",
    "    :param images: images arrays\n",
    "    :param angles: angles arrays which\n",
    "    :param n:  The values of the histogram bins\n",
    "    :param bins: The edges of the bins. Length nbins + 1\n",
    "    :param K: maximum number of max bins to be cropped\n",
    "    :param N: the max number of the images which will be used for the bin\n",
    "    :return: images, angle\n",
    "    \"\"\"\n",
    "\n",
    "    angles = []\n",
    "    for line in samples:\n",
    "        angles.append(float(line[3]))\n",
    "\n",
    "    n, bins, patches = plt.hist(angles, bins=bins, color= 'orange', linewidth=0.1)\n",
    "    angles = np.array(angles)\n",
    "    n = np.array(n)\n",
    "\n",
    "    idx = n.argsort()[-K:][::-1]    # find the largest K bins\n",
    "    del_ind = []                    # collect the index which will be removed from the data\n",
    "    for i in range(K):\n",
    "        if n[idx[i]] > N:\n",
    "            ind = np.where((bins[idx[i]]<=angles) & (angles<bins[idx[i]+1]))\n",
    "            ind = np.ravel(ind)\n",
    "            np.random.shuffle(ind)\n",
    "            del_ind.extend(ind[:len(ind)-N])\n",
    "\n",
    "    # angles = np.delete(angles,del_ind)\n",
    "    balanced_samples = [v for i, v in enumerate(samples) if i not in del_ind]\n",
    "    balanced_angles = np.delete(angles,del_ind)\n",
    "\n",
    "    plt.subplot(1,2,2)\n",
    "    plt.hist(balanced_angles, bins=bins, color= 'orange', linewidth=0.1)\n",
    "    plt.title('modified histogram', fontsize=20)\n",
    "    plt.xlabel('steering angle', fontsize=20)\n",
    "    plt.ylabel('counts', fontsize=20)\n",
    "\n",
    "    if visulization_flag:\n",
    "        plt.figure\n",
    "        plt.subplot(1,2,1)\n",
    "        n, bins, patches = plt.hist(angles, bins=bins, color='orange', linewidth=0.1)\n",
    "        plt.title('origin histogram', fontsize=20)\n",
    "        plt.xlabel('steering angle', fontsize=20)\n",
    "        plt.ylabel('counts', fontsize=20)\n",
    "        plt.show()\n",
    "\n",
    "        plt.figure\n",
    "        aa = np.append(balanced_angles, -balanced_angles)\n",
    "        bb = np.append(aa, aa)\n",
    "        plt.hist(bb, bins=bins, color='orange', linewidth=0.1)\n",
    "        plt.title('final histogram', fontsize=20)\n",
    "        plt.xlabel('steering angle', fontsize=20)\n",
    "        plt.ylabel('counts', fontsize=20)\n",
    "        plt.show()\n",
    "\n",
    "    return balanced_samples\n"
   ]
  },
  {
   "cell_type": "code",
   "execution_count": null,
   "metadata": {},
   "outputs": [],
   "source": [
    "def brightness_change(image):\n",
    "    \"\"\"  change the brightness of the input image\n",
    "\n",
    "    :param image: input image\n",
    "    :return: new image\n",
    "    \"\"\"\n",
    "    image1 = cv2.cvtColor(image,cv2.COLOR_RGB2HSV)\n",
    "    random_bright = np.random.uniform(0.2,0.8)\n",
    "    image1[:,:,2] = image1[:,:,2]*random_bright\n",
    "    image1 = cv2.cvtColor(image1,cv2.COLOR_HSV2RGB)\n",
    "\n",
    "    return image1\n"
   ]
  },
  {
   "cell_type": "code",
   "execution_count": null,
   "metadata": {},
   "outputs": [],
   "source": [
    "def data_augmentation(images, angles):\n",
    "    \"\"\" flip every image and change the blitheness of the image, then appended to the lists\n",
    "\n",
    "    :param images: origin image\n",
    "    :param angles: origin angles\n",
    "    :return: added augmented images and their angles\n",
    "    \"\"\"\n",
    "    augmented_images = []\n",
    "    augmented_angles = []\n",
    "    for image, angle in zip(images, angles):\n",
    "\n",
    "        augmented_images.append(image)\n",
    "        augmented_angles.append(angle)\n",
    "\n",
    "        # flip\n",
    "        flipped_image = cv2.flip(image,1)\n",
    "        flipped_angle = -1.0 * angle\n",
    "        augmented_images.append(flipped_image)\n",
    "        augmented_angles.append(flipped_angle)\n",
    "\n",
    "        # brightness changes\n",
    "        image_b1 = brightness_change(image)\n",
    "        image_b2 = brightness_change(flipped_image)\n",
    "\n",
    "        # append images\n",
    "        augmented_images.append(image_b1)\n",
    "        augmented_angles.append(angle)\n",
    "        augmented_images.append(image_b2)\n",
    "        augmented_angles.append(flipped_angle)\n",
    "\n",
    "    return augmented_images, augmented_angles\n"
   ]
  },
  {
   "cell_type": "code",
   "execution_count": null,
   "metadata": {},
   "outputs": [],
   "source": [
    "def network_model():\n",
    "    \"\"\"\n",
    "\n",
    "    :return: designed network model\n",
    "    \"\"\"\n",
    "    model = Sequential()\n",
    "    model.add(Lambda(lambda x: x / 127.5 - 1., input_shape=(160,320,3)))\n",
    "    model.add(Cropping2D(cropping=((70,25),(0,0))))\n",
    "    model.add(Convolution2D(32,3,3,activation='relu'))\n",
    "    model.add(MaxPooling2D())\n",
    "    model.add(Dropout(0.1))\n",
    "    model.add(Convolution2D(64,3,3,activation='relu'))\n",
    "    model.add(MaxPooling2D())\n",
    "    model.add(Dropout(0.1))\n",
    "    model.add(Convolution2D(128,3,3, activation='relu'))\n",
    "    model.add(MaxPooling2D())\n",
    "    model.add(Convolution2D(256,3,3, activation='relu'))\n",
    "    model.add(MaxPooling2D())\n",
    "\n",
    "    model.add(Flatten())\n",
    "    model.add(Dense(120))\n",
    "    model.add(Dense(20))\n",
    "    model.add(Dense(1))\n",
    "    return model\n"
   ]
  },
  {
   "cell_type": "code",
   "execution_count": null,
   "metadata": {},
   "outputs": [],
   "source": [
    "def generator(samples, train_flag, batch_size=32):\n",
    "    \"\"\"\n",
    "\n",
    "    \"\"\"\n",
    "    num_samples = len(samples)\n",
    "    correction = 0.2  # correction angle used for the left and right images\n",
    "\n",
    "    while 1:  # Loop forever so the generator never terminates\n",
    "        shuffle(samples)\n",
    "        for offset in range(0, num_samples, batch_size):\n",
    "            batch_samples = samples[offset:offset+batch_size]\n",
    "\n",
    "            images = []\n",
    "            angles = []\n",
    "\n",
    "            for line in batch_samples:\n",
    "                angle = float(line[3])\n",
    "                c_imagePath = line[0].replace(\" \", \"\")\n",
    "                c_image = cv2.imread(c_imagePath)\n",
    "                images.append(c_image)\n",
    "                angles.append(angle)\n",
    "\n",
    "                if train_flag:  # only add left and right images for training data (not for validation)\n",
    "                    l_imagePath = line[1].replace(\" \", \"\")\n",
    "                    r_imagePath = line[2].replace(\" \", \"\")\n",
    "                    l_image = cv2.imread(l_imagePath)\n",
    "                    r_image = cv2.imread(r_imagePath)\n",
    "\n",
    "                    images.append(l_image)\n",
    "                    angles.append(angle + correction)\n",
    "                    images.append(r_image)\n",
    "                    angles.append(angle - correction)\n",
    "\n",
    "            # flip image and change the brightness, for each input image, returns other 3 augmented images\n",
    "            augmented_images, augmented_angles = data_augmentation(images, angles)\n",
    "\n",
    "            X_train = np.array(augmented_images)\n",
    "            y_train = np.array(augmented_angles)\n",
    "            yield shuffle(X_train, y_train)\n"
   ]
  },
  {
   "cell_type": "code",
   "execution_count": null,
   "metadata": {},
   "outputs": [],
   "source": [
    "# load the csv file\n",
    "basePath = '/home/ashirwad/Downloads/simulator/'\n",
    "print('loading the data...')\n",
    "samples = loadData(basePath)"
   ]
  },
  {
   "cell_type": "code",
   "execution_count": null,
   "metadata": {},
   "outputs": [],
   "source": [
    "samples"
   ]
  },
  {
   "cell_type": "code",
   "execution_count": null,
   "metadata": {},
   "outputs": [],
   "source": [
    "# balance the data with smooth the histogram of steering angles\n",
    "samples = balance_data(samples, visulization_flag=True)"
   ]
  },
  {
   "cell_type": "code",
   "execution_count": null,
   "metadata": {},
   "outputs": [],
   "source": [
    "# split data into training and validation\n",
    "train_samples, validation_samples = train_test_split(samples, test_size = 0.20, random_state = 100)\n"
   ]
  },
  {
   "cell_type": "code",
   "execution_count": null,
   "metadata": {},
   "outputs": [],
   "source": [
    "# compile and train the model using the generator function\n",
    "train_generator = generator(train_samples, train_flag=True, batch_size=32)\n",
    "validation_generator = generator(validation_samples, train_flag=False, batch_size=32)\n"
   ]
  },
  {
   "cell_type": "code",
   "execution_count": null,
   "metadata": {},
   "outputs": [],
   "source": [
    "# define the network model\n",
    "model = network_model()\n",
    "model.summary()\n"
   ]
  },
  {
   "cell_type": "code",
   "execution_count": null,
   "metadata": {},
   "outputs": [],
   "source": [
    "nbEpoch = 8\n",
    "from keras.optimizers import Adam\n",
    "adam = Adam(lr = 0.0001)\n",
    "model.compile(optimizer= adam, loss='mse', metrics=['accuracy'])\n"
   ]
  },
  {
   "cell_type": "code",
   "execution_count": null,
   "metadata": {},
   "outputs": [],
   "source": [
    "history = model.fit_generator(train_generator, samples_per_epoch=len(train_samples)*12, nb_epoch=nbEpoch, validation_data=validation_generator, nb_val_samples=len(validation_samples))\n"
   ]
  },
  {
   "cell_type": "code",
   "execution_count": null,
   "metadata": {},
   "outputs": [],
   "source": [
    "model.save('model1_retry_training.h5')"
   ]
  },
  {
   "cell_type": "code",
   "execution_count": null,
   "metadata": {},
   "outputs": [],
   "source": [
    "print(model.summary())"
   ]
  },
  {
   "cell_type": "code",
   "execution_count": null,
   "metadata": {},
   "outputs": [],
   "source": []
  },
  {
   "cell_type": "code",
   "execution_count": null,
   "metadata": {},
   "outputs": [],
   "source": []
  }
 ],
 "metadata": {
  "kernelspec": {
   "display_name": "Python 3",
   "language": "python",
   "name": "python3"
  },
  "language_info": {
   "codemirror_mode": {
    "name": "ipython",
    "version": 3
   },
   "file_extension": ".py",
   "mimetype": "text/x-python",
   "name": "python",
   "nbconvert_exporter": "python",
   "pygments_lexer": "ipython3",
   "version": "3.5.6"
  }
 },
 "nbformat": 4,
 "nbformat_minor": 4
}
